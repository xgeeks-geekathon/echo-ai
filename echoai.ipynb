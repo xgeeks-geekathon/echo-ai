{
 "cells": [
  {
   "attachments": {},
   "cell_type": "markdown",
   "metadata": {},
   "source": [
    "# EchoAI"
   ]
  },
  {
   "cell_type": "code",
   "execution_count": 14,
   "metadata": {},
   "outputs": [
    {
     "data": {
      "text/plain": [
       "True"
      ]
     },
     "execution_count": 14,
     "metadata": {},
     "output_type": "execute_result"
    }
   ],
   "source": [
    "import dotenv\n",
    "import os\n",
    "\n",
    "dotenv.load_dotenv(\".env\")"
   ]
  },
  {
   "attachments": {},
   "cell_type": "markdown",
   "metadata": {},
   "source": [
    "## LOAD DATA"
   ]
  },
  {
   "cell_type": "code",
   "execution_count": 40,
   "metadata": {},
   "outputs": [
    {
     "name": "stdout",
     "output_type": "stream",
     "text": [
      "huggingface/tokenizers: The current process just got forked, after parallelism has already been used. Disabling parallelism to avoid deadlocks...\n",
      "To disable this warning, you can either:\n",
      "\t- Avoid using `tokenizers` before the fork if possible\n",
      "\t- Explicitly set the environment variable TOKENIZERS_PARALLELISM=(true | false)\n",
      "huggingface/tokenizers: The current process just got forked, after parallelism has already been used. Disabling parallelism to avoid deadlocks...\n",
      "To disable this warning, you can either:\n",
      "\t- Avoid using `tokenizers` before the fork if possible\n",
      "\t- Explicitly set the environment variable TOKENIZERS_PARALLELISM=(true | false)\n",
      "huggingface/tokenizers: The current process just got forked, after parallelism has already been used. Disabling parallelism to avoid deadlocks...\n",
      "To disable this warning, you can either:\n",
      "\t- Avoid using `tokenizers` before the fork if possible\n",
      "\t- Explicitly set the environment variable TOKENIZERS_PARALLELISM=(true | false)\n",
      "huggingface/tokenizers: The current process just got forked, after parallelism has already been used. Disabling parallelism to avoid deadlocks...\n",
      "To disable this warning, you can either:\n",
      "\t- Avoid using `tokenizers` before the fork if possible\n",
      "\t- Explicitly set the environment variable TOKENIZERS_PARALLELISM=(true | false)\n",
      "MoviePy - Writing audio in media/machine_learning.mp3\n",
      "huggingface/tokenizers: The current process just got forked, after parallelism has already been used. Disabling parallelism to avoid deadlocks...\n",
      "To disable this warning, you can either:\n",
      "\t- Avoid using `tokenizers` before the fork if possible\n",
      "\t- Explicitly set the environment variable TOKENIZERS_PARALLELISM=(true | false)\n"
     ]
    },
    {
     "name": "stderr",
     "output_type": "stream",
     "text": [
      "                                                                      "
     ]
    },
    {
     "name": "stdout",
     "output_type": "stream",
     "text": [
      "MoviePy - Done.\n"
     ]
    },
    {
     "name": "stderr",
     "output_type": "stream",
     "text": [
      "\r"
     ]
    }
   ],
   "source": [
    "import moviepy.editor as mp\n",
    "\n",
    "clip = mp.VideoFileClip(r\"media/machine_learning.mp4\")\n",
    "clip.audio.write_audiofile(r\"media/machine_learning.mp3\")\n"
   ]
  },
  {
   "attachments": {},
   "cell_type": "markdown",
   "metadata": {},
   "source": [
    "## TRANSCRIPT"
   ]
  },
  {
   "cell_type": "code",
   "execution_count": null,
   "metadata": {},
   "outputs": [],
   "source": [
    "import openai\n"
   ]
  },
  {
   "cell_type": "code",
   "execution_count": null,
   "metadata": {},
   "outputs": [],
   "source": [
    "# THIS COSTS MONEY\n",
    "\n",
    "# audio_file= open(\"media/audio_test.mp3\", \"rb\")\n",
    "# transcript = openai.Audio.transcribe(\"whisper-1\", audio_file)"
   ]
  },
  {
   "cell_type": "code",
   "execution_count": 51,
   "metadata": {},
   "outputs": [
    {
     "name": "stdout",
     "output_type": "stream",
     "text": [
      "{\n",
      "  \"text\": \"Dr. Martin Luther King, Jr., in a 1968 speech where he reflects upon the civil rights movement, states, In the end, we will remember not the words of our enemies, but the silence of our friends. As a teacher, I've internalized this message. Every day all around us, we see the consequences of silence manifest themselves in the form of discrimination, violence, genocide, and war. In the classroom, I challenge my students to explore the silences in their own lives through poetry. We work together to fill those spaces, to recognize them, to name them, to understand that they don't have to be sources of shame. In an effort to create a culture within my classroom where students feel safe sharing the intimacies of their own silences, I have four core principles posted on the board that sits in the front of my class, which every student signs at the beginning of the year. Read critically, write consciously, speak clearly, tell your truth. I find myself thinking a lot about that last point, tell your truth. And I realized that if I was going to ask my students to speak up, I was going to have to tell my truth and be honest with them about the times where I failed to do so. So I tell them that growing up as a kid in a Catholic family in New Orleans, during Lent, I was always taught that the most meaningful thing one could do was to give something up, sacrifice something you typically indulge in to prove to God you understand his sanctity. I've given up soda, McDonald's, French fries, French kisses, and everything in between. For one year, I gave up speaking, figured the most valuable thing I could sacrifice was my own voice, but it was like I hadn't realized that I had given that up a long time ago. I spent so much of my life telling people the things they wanted to hear instead of the things they needed to, told myself I wasn't meant to be anyone's conscience because I still had to figure out being my own, so sometimes I just wouldn't say anything, appeasing ignorance with my silence, unaware that validation doesn't need words to endorse its existence. When Christian was beat up for being gay, I put my hands in my pocket and walked with my head down as if I didn't even notice, couldn't use my locker for weeks because the bolt on the lock reminded me of the one I had put on my lips. When the homeless man on the corner looked at me with eyes up, merely searching for an affirmation that he was worth seeing, I was more concerned with touching the screen of my Apple than actually feeding him one. When the woman at the fundraising gala said, I'm so proud of you, it must be so hard teaching those poor, unintelligent kids, I bit my lip because apparently we needed her money more than my students needed their dignity. We spend so much time listening to the things people are saying that we rarely pay attention to the things they don't. Silence is the residue of fear. It is feeling your flaws, gut-wrench guillotine your tongue, it is the air retreating from your chest because it doesn't feel safe in your lungs. Silence is Rwandan genocide, silence is Katrina, it is what you hear when there aren't enough body bags left. It is the sound after the noose is already tied, it is charring, it is chains, it is privilege, it is pain. There is no time to pick your battles when your battles have already picked you. I will not let silence wrap itself around my indecision. I will tell Christian that he is a lion, a sanctuary of bravery and brilliance. I will ask that homeless man what his name is and how his day was because sometimes all people want to be is human. I will tell that woman that my students can talk about transcendentalism like their last name was Thoreau. And just because you watch one episode of The Wire doesn't mean you know anything about my kids. So this year, instead of giving something up, I will live every day as if there were a microphone tucked under my tongue, a stage on the underside of my inhibition. Because who has to have a soapbox when all you've ever needed is your voice. Thank you.\"\n",
      "}\n"
     ]
    }
   ],
   "source": [
    "print(transcript)"
   ]
  },
  {
   "cell_type": "code",
   "execution_count": 50,
   "metadata": {},
   "outputs": [],
   "source": [
    "# THIS COSTS MONEY\n",
    "\n",
    "# with open(\"media/audio_test.mp3\", \"rb\") as audio_file:\n",
    "#     transcript2 = openai.Audio.transcribe(\n",
    "#         file = audio_file,\n",
    "#         model = \"whisper-1\",\n",
    "#         response_format=\"srt\",\n",
    "#         language=\"en\"\n",
    "#     )"
   ]
  },
  {
   "cell_type": "code",
   "execution_count": 49,
   "metadata": {},
   "outputs": [
    {
     "name": "stdout",
     "output_type": "stream",
     "text": [
      "1\n",
      "00:00:00,000 --> 00:00:19,080\n",
      "Dr. Martin Luther King, Jr., in a 1968 speech where he reflects upon the civil rights movement,\n",
      "\n",
      "2\n",
      "00:00:19,080 --> 00:00:20,080\n",
      "states,\n",
      "\n",
      "3\n",
      "00:00:20,080 --> 00:00:27,440\n",
      "In the end, we will remember not the words of our enemies, but the silence of our friends.\n",
      "\n",
      "4\n",
      "00:00:27,440 --> 00:00:30,240\n",
      "As a teacher, I've internalized this message.\n",
      "\n",
      "5\n",
      "00:00:30,240 --> 00:00:34,920\n",
      "Every day all around us, we see the consequences of silence manifest themselves in the form\n",
      "\n",
      "6\n",
      "00:00:34,920 --> 00:00:40,000\n",
      "of discrimination, violence, genocide, and war.\n",
      "\n",
      "7\n",
      "00:00:40,000 --> 00:00:44,520\n",
      "In the classroom, I challenge my students to explore the silences in their own lives\n",
      "\n",
      "8\n",
      "00:00:44,520 --> 00:00:46,180\n",
      "through poetry.\n",
      "\n",
      "9\n",
      "00:00:46,180 --> 00:00:52,040\n",
      "We work together to fill those spaces, to recognize them, to name them, to understand\n",
      "\n",
      "10\n",
      "00:00:52,040 --> 00:00:55,160\n",
      "that they don't have to be sources of shame.\n",
      "\n",
      "11\n",
      "00:00:55,160 --> 00:00:58,640\n",
      "In an effort to create a culture within my classroom where students feel safe sharing\n",
      "\n",
      "12\n",
      "00:00:58,640 --> 00:01:03,360\n",
      "the intimacies of their own silences, I have four core principles posted on the board\n",
      "\n",
      "13\n",
      "00:01:03,360 --> 00:01:07,000\n",
      "that sits in the front of my class, which every student signs at the beginning of the\n",
      "\n",
      "14\n",
      "00:01:07,000 --> 00:01:08,000\n",
      "year.\n",
      "\n",
      "15\n",
      "00:01:08,000 --> 00:01:14,520\n",
      "Read critically, write consciously, speak clearly, tell your truth.\n",
      "\n",
      "16\n",
      "00:01:14,520 --> 00:01:19,400\n",
      "I find myself thinking a lot about that last point, tell your truth.\n",
      "\n",
      "17\n",
      "00:01:19,400 --> 00:01:23,920\n",
      "And I realized that if I was going to ask my students to speak up, I was going to have\n",
      "\n",
      "18\n",
      "00:01:23,920 --> 00:01:29,400\n",
      "to tell my truth and be honest with them about the times where I failed to do so.\n",
      "\n",
      "19\n",
      "00:01:29,400 --> 00:01:35,640\n",
      "So I tell them that growing up as a kid in a Catholic family in New Orleans, during Lent,\n",
      "\n",
      "20\n",
      "00:01:35,640 --> 00:01:40,000\n",
      "I was always taught that the most meaningful thing one could do was to give something up,\n",
      "\n",
      "21\n",
      "00:01:40,000 --> 00:01:44,920\n",
      "sacrifice something you typically indulge in to prove to God you understand his sanctity.\n",
      "\n",
      "22\n",
      "00:01:44,920 --> 00:01:51,000\n",
      "I've given up soda, McDonald's, French fries, French kisses, and everything in between.\n",
      "\n",
      "23\n",
      "00:01:51,000 --> 00:01:56,880\n",
      "For one year, I gave up speaking, figured the most valuable thing I could sacrifice\n",
      "\n",
      "24\n",
      "00:01:56,880 --> 00:02:02,400\n",
      "was my own voice, but it was like I hadn't realized that I had given that up a long time\n",
      "\n",
      "25\n",
      "00:02:02,400 --> 00:02:03,560\n",
      "ago.\n",
      "\n",
      "26\n",
      "00:02:03,560 --> 00:02:07,680\n",
      "I spent so much of my life telling people the things they wanted to hear instead of\n",
      "\n",
      "27\n",
      "00:02:07,680 --> 00:02:11,480\n",
      "the things they needed to, told myself I wasn't meant to be anyone's conscience because I\n",
      "\n",
      "28\n",
      "00:02:11,480 --> 00:02:18,120\n",
      "still had to figure out being my own, so sometimes I just wouldn't say anything, appeasing ignorance\n",
      "\n",
      "29\n",
      "00:02:18,240 --> 00:02:23,160\n",
      "with my silence, unaware that validation doesn't need words to endorse its existence.\n",
      "\n",
      "30\n",
      "00:02:23,160 --> 00:02:26,920\n",
      "When Christian was beat up for being gay, I put my hands in my pocket and walked with\n",
      "\n",
      "31\n",
      "00:02:26,920 --> 00:02:31,240\n",
      "my head down as if I didn't even notice, couldn't use my locker for weeks because the bolt on\n",
      "\n",
      "32\n",
      "00:02:31,240 --> 00:02:34,040\n",
      "the lock reminded me of the one I had put on my lips.\n",
      "\n",
      "33\n",
      "00:02:34,040 --> 00:02:37,760\n",
      "When the homeless man on the corner looked at me with eyes up, merely searching for an\n",
      "\n",
      "34\n",
      "00:02:37,760 --> 00:02:41,120\n",
      "affirmation that he was worth seeing, I was more concerned with touching the screen of\n",
      "\n",
      "35\n",
      "00:02:41,120 --> 00:02:43,160\n",
      "my Apple than actually feeding him one.\n",
      "\n",
      "36\n",
      "00:02:43,160 --> 00:02:47,480\n",
      "When the woman at the fundraising gala said, I'm so proud of you, it must be so hard teaching\n",
      "\n",
      "37\n",
      "00:02:47,480 --> 00:02:51,880\n",
      "those poor, unintelligent kids, I bit my lip because apparently we needed her money\n",
      "\n",
      "38\n",
      "00:02:51,880 --> 00:02:53,840\n",
      "more than my students needed their dignity.\n",
      "\n",
      "39\n",
      "00:02:53,840 --> 00:03:00,600\n",
      "We spend so much time listening to the things people are saying that we rarely pay attention\n",
      "\n",
      "40\n",
      "00:03:00,600 --> 00:03:03,440\n",
      "to the things they don't.\n",
      "\n",
      "41\n",
      "00:03:03,440 --> 00:03:06,400\n",
      "Silence is the residue of fear.\n",
      "\n",
      "42\n",
      "00:03:06,400 --> 00:03:11,160\n",
      "It is feeling your flaws, gut-wrench guillotine your tongue, it is the air retreating from\n",
      "\n",
      "43\n",
      "00:03:11,160 --> 00:03:13,960\n",
      "your chest because it doesn't feel safe in your lungs.\n",
      "\n",
      "44\n",
      "00:03:13,960 --> 00:03:18,760\n",
      "Silence is Rwandan genocide, silence is Katrina, it is what you hear when there aren't enough\n",
      "\n",
      "45\n",
      "00:03:18,760 --> 00:03:19,760\n",
      "body bags left.\n",
      "\n",
      "46\n",
      "00:03:19,760 --> 00:03:24,280\n",
      "It is the sound after the noose is already tied, it is charring, it is chains, it is\n",
      "\n",
      "47\n",
      "00:03:24,280 --> 00:03:25,640\n",
      "privilege, it is pain.\n",
      "\n",
      "48\n",
      "00:03:25,640 --> 00:03:28,960\n",
      "There is no time to pick your battles when your battles have already picked you.\n",
      "\n",
      "49\n",
      "00:03:28,960 --> 00:03:32,080\n",
      "I will not let silence wrap itself around my indecision.\n",
      "\n",
      "50\n",
      "00:03:32,080 --> 00:03:36,240\n",
      "I will tell Christian that he is a lion, a sanctuary of bravery and brilliance.\n",
      "\n",
      "51\n",
      "00:03:36,240 --> 00:03:40,640\n",
      "I will ask that homeless man what his name is and how his day was because sometimes all\n",
      "\n",
      "52\n",
      "00:03:40,640 --> 00:03:42,440\n",
      "people want to be is human.\n",
      "\n",
      "53\n",
      "00:03:42,440 --> 00:03:46,480\n",
      "I will tell that woman that my students can talk about transcendentalism like their last\n",
      "\n",
      "54\n",
      "00:03:46,480 --> 00:03:47,480\n",
      "name was Thoreau.\n",
      "\n",
      "55\n",
      "00:03:47,480 --> 00:03:50,880\n",
      "And just because you watch one episode of The Wire doesn't mean you know anything about\n",
      "\n",
      "56\n",
      "00:03:50,880 --> 00:03:51,880\n",
      "my kids.\n",
      "\n",
      "57\n",
      "00:03:51,880 --> 00:03:57,360\n",
      "So this year, instead of giving something up, I will live every day as if there were\n",
      "\n",
      "58\n",
      "00:03:57,360 --> 00:04:04,120\n",
      "a microphone tucked under my tongue, a stage on the underside of my inhibition.\n",
      "\n",
      "59\n",
      "00:04:04,120 --> 00:04:10,600\n",
      "Because who has to have a soapbox when all you've ever needed is your voice.\n",
      "\n",
      "60\n",
      "00:04:10,600 --> 00:04:11,680\n",
      "Thank you.\n",
      "\n",
      "\n",
      "\n"
     ]
    }
   ],
   "source": [
    "print(transcript2)"
   ]
  },
  {
   "attachments": {},
   "cell_type": "markdown",
   "metadata": {},
   "source": [
    "## SAVE FILES"
   ]
  },
  {
   "cell_type": "code",
   "execution_count": 32,
   "metadata": {},
   "outputs": [],
   "source": [
    "with open('media/transcribe_1.json', 'w') as f:\n",
    "    f.write(str(transcript))"
   ]
  },
  {
   "cell_type": "code",
   "execution_count": 42,
   "metadata": {},
   "outputs": [],
   "source": [
    "with open('media/transcribe.srt', 'w') as f:\n",
    "    f.write(str(transcript2))"
   ]
  },
  {
   "attachments": {},
   "cell_type": "markdown",
   "metadata": {},
   "source": [
    "## SUMMARY"
   ]
  },
  {
   "cell_type": "code",
   "execution_count": 15,
   "metadata": {},
   "outputs": [],
   "source": [
    "from langchain.chat_models import ChatOpenAI\n",
    "\n",
    "llm = ChatOpenAI(model_name=\"gpt-3.5-turbo\", openai_api_key=os.environ.get(\"OPENAI_API_KEY\"))"
   ]
  },
  {
   "cell_type": "code",
   "execution_count": 12,
   "metadata": {},
   "outputs": [
    {
     "name": "stdout",
     "output_type": "stream",
     "text": [
      "[Document(page_content=\"Dr. Martin Luther King, Jr., in a 1968 speech where he reflects upon the civil rights movement, states, In the end, we will remember not the words of our enemies, but the silence of our friends. As a teacher, I've internalized this message. Every day all around us, we see the consequences of silence manifest themselves in the form of discrimination, violence, genocide, and war. In the classroom, I challenge my students to explore the silences in their own lives through poetry. We work together to fill those spaces, to recognize them, to name them, to understand that they don't have to be sources of shame. In an effort to create a culture within my classroom where students feel safe sharing the intimacies of their own silences, I have four core principles posted on the board that sits in the front of my class, which every student signs at the beginning of the year. Read critically, write consciously, speak clearly, tell your truth. I find myself thinking a lot about that last point, tell your truth. And I realized that if I was going to ask my students to speak up, I was going to have to tell my truth and be honest with them about the times where I failed to do so. So I tell them that growing up as a kid in a Catholic family in New Orleans, during Lent, I was always taught that the most meaningful thing one could do was to give something up, sacrifice something you typically indulge in to prove to God you understand his sanctity. I've given up soda, McDonald's, French fries, French kisses, and everything in between. For one year, I gave up speaking, figured the most valuable thing I could sacrifice was my own voice, but it was like I hadn't realized that I had given that up a long time ago. I spent so much of my life telling people the things they wanted to hear instead of the things they needed to, told myself I wasn't meant to be anyone's conscience because I still had to figure out being my own, so sometimes I just wouldn't say anything, appeasing ignorance with my silence, unaware that validation doesn't need words to endorse its existence. When Christian was beat up for being gay, I put my hands in my pocket and walked with my head down as if I didn't even notice, couldn't use my locker for weeks because the bolt on the lock reminded me of the one I had put on my lips. When the homeless man on the corner looked at me with eyes up, merely searching for an affirmation that he was worth seeing, I was more concerned with touching the screen of my Apple than actually feeding him one. When the woman at the fundraising gala said, I'm so proud of you, it must be so hard teaching those poor, unintelligent kids, I bit my lip because apparently we needed her money more than my students needed their dignity. We spend so much time listening to the things people are saying that we rarely pay attention to the things they don't. Silence is the residue of fear. It is feeling your flaws, gut-wrench guillotine your tongue, it is the air retreating from your chest because it doesn't feel safe in your lungs. Silence is Rwandan genocide, silence is Katrina, it is what you hear when there aren't enough body bags left. It is the sound after the noose is already tied, it is charring, it is chains, it is privilege, it is pain. There is no time to pick your battles when your battles have already picked you. I will not let silence wrap itself around my indecision. I will tell Christian that he is a lion, a sanctuary of bravery and brilliance. I will ask that homeless man what his name is and how his day was because sometimes all people want to be is human. I will tell that woman that my students can talk about transcendentalism like their last name was Thoreau. And just because you watch one episode of The Wire doesn't mean you know anything about my kids. So this year, instead of giving something up, I will live every day as if there were a microphone tucked under my tongue, a stage on the underside of my inhibition. Because who has to have a soapbox when all you've ever needed is your voice. Thank you.\", metadata={'source': '/Users/jorfao/xgeeks/hackaton/echoai/media/transcribe_1.json', 'seq_num': 1})]\n"
     ]
    }
   ],
   "source": [
    "from langchain.document_loaders import JSONLoader\n",
    "\n",
    "loader = JSONLoader(\n",
    "    file_path='media/transcribe_1.json',\n",
    "    jq_schema='.text')\n",
    "\n",
    "data = loader.load()\n",
    "print(data)"
   ]
  },
  {
   "cell_type": "code",
   "execution_count": 52,
   "metadata": {},
   "outputs": [
    {
     "name": "stdout",
     "output_type": "stream",
     "text": [
      "\n",
      "\n",
      "\u001b[1m> Entering new MapReduceDocumentsChain chain...\u001b[0m\n",
      "\n",
      "\n",
      "\u001b[1m> Entering new LLMChain chain...\u001b[0m\n",
      "Prompt after formatting:\n",
      "\u001b[32;1m\u001b[1;3mWrite a concise summary of the following:\n",
      "\n",
      "\n",
      "\"Dr. Martin Luther King, Jr., in a 1968 speech where he reflects upon the civil rights movement, states, In the end, we will remember not the words of our enemies, but the silence of our friends. As a teacher, I've internalized this message. Every day all around us, we see the consequences of silence manifest themselves in the form of discrimination, violence, genocide, and war. In the classroom, I challenge my students to explore the silences in their own lives through poetry. We work together to fill those spaces, to recognize them, to name them, to understand that they don't have to be sources of shame. In an effort to create a culture within my classroom where students feel safe sharing the intimacies of their own silences, I have four core principles posted on the board that sits in the front of my class, which every student signs at the beginning of the year. Read critically, write consciously, speak clearly, tell your truth. I find myself thinking a lot about that last point, tell your truth. And I realized that if I was going to ask my students to speak up, I was going to have to tell my truth and be honest with them about the times where I failed to do so. So I tell them that growing up as a kid in a Catholic family in New Orleans, during Lent, I was always taught that the most meaningful thing one could do was to give something up, sacrifice something you typically indulge in to prove to God you understand his sanctity. I've given up soda, McDonald's, French fries, French kisses, and everything in between. For one year, I gave up speaking, figured the most valuable thing I could sacrifice was my own voice, but it was like I hadn't realized that I had given that up a long time ago. I spent so much of my life telling people the things they wanted to hear instead of the things they needed to, told myself I wasn't meant to be anyone's conscience because I still had to figure out being my own, so sometimes I just wouldn't say anything, appeasing ignorance with my silence, unaware that validation doesn't need words to endorse its existence. When Christian was beat up for being gay, I put my hands in my pocket and walked with my head down as if I didn't even notice, couldn't use my locker for weeks because the bolt on the lock reminded me of the one I had put on my lips. When the homeless man on the corner looked at me with eyes up, merely searching for an affirmation that he was worth seeing, I was more concerned with touching the screen of my Apple than actually feeding him one. When the woman at the fundraising gala said, I'm so proud of you, it must be so hard teaching those poor, unintelligent kids, I bit my lip because apparently we needed her money more than my students needed their dignity. We spend so much time listening to the things people are saying that we rarely pay attention to the things they don't. Silence is the residue of fear. It is feeling your flaws, gut-wrench guillotine your tongue, it is the air retreating from your chest because it doesn't feel safe in your lungs. Silence is Rwandan genocide, silence is Katrina, it is what you hear when there aren't enough body bags left. It is the sound after the noose is already tied, it is charring, it is chains, it is privilege, it is pain. There is no time to pick your battles when your battles have already picked you. I will not let silence wrap itself around my indecision. I will tell Christian that he is a lion, a sanctuary of bravery and brilliance. I will ask that homeless man what his name is and how his day was because sometimes all people want to be is human. I will tell that woman that my students can talk about transcendentalism like their last name was Thoreau. And just because you watch one episode of The Wire doesn't mean you know anything about my kids. So this year, instead of giving something up, I will live every day as if there were a microphone tucked under my tongue, a stage on the underside of my inhibition. Because who has to have a soapbox when all you've ever needed is your voice. Thank you.\"\n",
      "\n",
      "\n",
      "CONCISE SUMMARY:\u001b[0m\n",
      "\n",
      "\u001b[1m> Finished chain.\u001b[0m\n",
      "\n",
      "\n",
      "\u001b[1m> Entering new LLMChain chain...\u001b[0m\n",
      "Prompt after formatting:\n",
      "\u001b[32;1m\u001b[1;3mWrite a concise summary of the following:\n",
      "\n",
      "\n",
      "\"Dr. Martin Luther King Jr.'s quote about the silence of friends is used by a teacher to emphasize the importance of speaking up against discrimination and injustice. The teacher reflects on their own past failures to speak up and vows to use their voice to advocate for their students and others. The teacher encourages their students to explore and share their own silenced experiences through poetry.\"\n",
      "\n",
      "\n",
      "CONCISE SUMMARY:\u001b[0m\n",
      "\n",
      "\u001b[1m> Finished chain.\u001b[0m\n",
      "\n",
      "\u001b[1m> Finished chain.\u001b[0m\n"
     ]
    }
   ],
   "source": [
    "from langchain.chains.summarize import load_summarize_chain\n",
    "\n",
    "# THIS COSTS MONEY\n",
    "\n",
    "# chain = load_summarize_chain(llm, chain_type=\"map_reduce\", verbose=True)\n",
    "\n",
    "# output = chain.run(data)"
   ]
  },
  {
   "cell_type": "code",
   "execution_count": 53,
   "metadata": {},
   "outputs": [
    {
     "name": "stdout",
     "output_type": "stream",
     "text": [
      "A teacher uses Dr. Martin Luther King Jr.'s quote to emphasize the importance of speaking up against discrimination and injustice, reflecting on their own past failures and vowing to advocate for their students and others. The teacher encourages students to explore and share their silenced experiences through poetry.\n"
     ]
    }
   ],
   "source": [
    "print(output)"
   ]
  },
  {
   "cell_type": "code",
   "execution_count": 48,
   "metadata": {},
   "outputs": [
    {
     "name": "stdout",
     "output_type": "stream",
     "text": [
      "Dr. Martin Luther King, Jr., in a 1968 speech where he reflects upon the civil rights movement, stat\n"
     ]
    }
   ],
   "source": [
    "from langchain.document_loaders import SRTLoader\n",
    "\n",
    "strLoader = SRTLoader(\n",
    "    \"media/transcribe.srt\"\n",
    ")\n",
    "\n",
    "docs = strLoader.load()\n",
    "\n",
    "print(docs)"
   ]
  },
  {
   "attachments": {},
   "cell_type": "markdown",
   "metadata": {},
   "source": [
    "## Keyword Finder"
   ]
  },
  {
   "cell_type": "code",
   "execution_count": 21,
   "metadata": {},
   "outputs": [
    {
     "name": "stdout",
     "output_type": "stream",
     "text": [
      "     score                       Phrase\n",
      "0     16.0  four core principles posted\n",
      "1     16.0        enough body bags left\n",
      "2     12.2   meaningful thing one could\n",
      "3     11.8   students feel safe sharing\n",
      "4      9.0         rarely pay attention\n",
      "..     ...                          ...\n",
      "153    1.0                    sanctuary\n",
      "154    1.0                     sanctity\n",
      "155    1.0                      residue\n",
      "156    1.0                     remember\n",
      "251    1.0                  affirmation\n",
      "\n",
      "[252 rows x 2 columns]\n"
     ]
    }
   ],
   "source": [
    "from rake_nltk import Rake\n",
    "import pandas as pd\n",
    "r = Rake()\n",
    "\n",
    "r.extract_keywords_from_text(data[0].page_content)\n",
    "phrases = r.get_ranked_phrases_with_scores()\n",
    "\n",
    "table = pd.DataFrame(phrases,columns=['score','Phrase'])\n",
    "table = table.sort_values('score',ascending=False)\n",
    "\n",
    "print(data[0].page_content)\n",
    "print(table)"
   ]
  },
  {
   "cell_type": "code",
   "execution_count": 23,
   "metadata": {},
   "outputs": [],
   "source": [
    "import os\n",
    "import openai\n",
    "\n",
    "openai.api_key = os.getenv(\"OPENAI_API_KEY\")\n",
    "\n",
    "response = openai.Completion.create(\n",
    "  model=\"text-davinci-002\",\n",
    "  prompt=\"Extract keywords from this text:\\n\\n \" + data[0].page_content ,\n",
    "  temperature=0.3,\n",
    "  max_tokens=60,\n",
    "  top_p=1.0,\n",
    "  frequency_penalty=0.8,\n",
    "  presence_penalty=0.0\n",
    ")"
   ]
  },
  {
   "cell_type": "code",
   "execution_count": 24,
   "metadata": {},
   "outputs": [
    {
     "name": "stdout",
     "output_type": "stream",
     "text": [
      "{\n",
      "  \"id\": \"cmpl-7gYltA3wWx4hafZPhqz9zf2VWLUUs\",\n",
      "  \"object\": \"text_completion\",\n",
      "  \"created\": 1690377793,\n",
      "  \"model\": \"text-davinci-002\",\n",
      "  \"choices\": [\n",
      "    {\n",
      "      \"text\": \"\\n\\nsilence, friends, enemies, civil rights, culture, students, class, teacher, principles, truth, family, Catholic, Lent\",\n",
      "      \"index\": 0,\n",
      "      \"logprobs\": null,\n",
      "      \"finish_reason\": \"stop\"\n",
      "    }\n",
      "  ],\n",
      "  \"usage\": {\n",
      "    \"prompt_tokens\": 881,\n",
      "    \"completion_tokens\": 29,\n",
      "    \"total_tokens\": 910\n",
      "  }\n",
      "}\n"
     ]
    }
   ],
   "source": [
    "print(response)"
   ]
  },
  {
   "cell_type": "code",
   "execution_count": 41,
   "metadata": {},
   "outputs": [],
   "source": [
    "text = \"\"\"Supervised learning is the machine learning task of learning a function that\n",
    "         maps an input to an output based on example input-output pairs. It infers a\n",
    "         function from labeled training data consisting of a set of training examples.\n",
    "         In supervised learning, each example is a pair consisting of an input object\n",
    "         (typically a vector) and a desired output value (also called the supervisory signal).\n",
    "         A supervised learning algorithm analyzes the training data and produces an inferred function,\n",
    "         which can be used for mapping new examples. An optimal scenario will allow for the\n",
    "         algorithm to correctly determine the class labels for unseen instances. This requires\n",
    "         the learning algorithm to generalize from the training data to unseen situations in a\n",
    "         'reasonable' way (see inductive bias).Supervised learning is the machine learning task of learning a function that\n",
    "         maps an input to an output based on example input-output pairs. It infers a\n",
    "         function from labeled training data consisting of a set of training examples.\n",
    "         In supervised learning, each example is a pair consisting of an input object\n",
    "         (typically a vector) and a desired output value (also called the supervisory signal).\n",
    "         A supervised learning algorithm analyzes the training data and produces an inferred function,\n",
    "         which can be used for mapping new examples. An optimal scenario will allow for the\n",
    "         algorithm to correctly determine the class labels for unseen instances. This requires\n",
    "         the learning algorithm to generalize from the training data to unseen situations in a\n",
    "         'reasonable' way (see inductive bias).\"\"\""
   ]
  },
  {
   "cell_type": "code",
   "execution_count": 45,
   "metadata": {},
   "outputs": [
    {
     "name": "stdout",
     "output_type": "stream",
     "text": [
      "[('supervised learning is', 0.6718), ('supervised learning algorithm', 0.654), ('supervised learning', 0.6194), ('supervised', 0.6143), ('in supervised learning', 0.5857)]\n"
     ]
    }
   ],
   "source": [
    "from keybert import KeyBERT\n",
    "\n",
    "doc = text\n",
    "kw_model = KeyBERT()\n",
    "keywords = kw_model.extract_keywords(doc,keyphrase_ngram_range=(1, 3), stop_words=None)\n",
    "print(keywords)"
   ]
  }
 ],
 "metadata": {
  "kernelspec": {
   "display_name": "langchain101-FGvLTIsq-py3.11",
   "language": "python",
   "name": "python3"
  },
  "language_info": {
   "codemirror_mode": {
    "name": "ipython",
    "version": 3
   },
   "file_extension": ".py",
   "mimetype": "text/x-python",
   "name": "python",
   "nbconvert_exporter": "python",
   "pygments_lexer": "ipython3",
   "version": "3.11.3"
  },
  "orig_nbformat": 4
 },
 "nbformat": 4,
 "nbformat_minor": 2
}
